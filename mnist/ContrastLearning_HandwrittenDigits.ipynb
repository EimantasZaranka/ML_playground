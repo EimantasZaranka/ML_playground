{
  "cells": [
    {
      "cell_type": "code",
      "execution_count": null,
      "metadata": {
        "id": "pV3eom06fczJ"
      },
      "outputs": [],
      "source": [
        "import pandas as pd\n",
        "import numpy as np\n",
        "import tensorflow as tf\n",
        "import tensorflow_datasets as tfds\n",
        "import matplotlib.pyplot as plt\n",
        "import matplotlib.image as mpimg"
      ]
    },
    {
      "cell_type": "code",
      "execution_count": null,
      "metadata": {
        "colab": {
          "background_save": true
        },
        "id": "ORjhHfGGjkpi"
      },
      "outputs": [],
      "source": [
        "def plot_loss_curves(history,eval=None):\n",
        "  loss, val_loss = history.history['loss'], history.history['val_loss']\n",
        "  accuracy, val_accuracy = history.history['accuracy'], history.history['val_accuracy']\n",
        "\n",
        "  epochs = range(len(history.history['loss']))\n",
        "\n",
        "  if eval:\n",
        "    eval_loss = [eval[0] for _ in epochs]\n",
        "    eval_accuracy = [eval[1] for _ in epochs]\n",
        "\n",
        "  plt.plot(epochs, loss, label='Training loss')\n",
        "  plt.plot(epochs, val_loss, label='Validation loss')\n",
        "  if eval:\n",
        "    plt.plot(epochs, eval_loss, label='Evaluation loss')\n",
        "  plt.title('Loss')\n",
        "  plt.xlabel('Epochs')\n",
        "  plt.legend()\n",
        "\n",
        "  plt.figure()\n",
        "  plt.plot(epochs, accuracy, label='Training accuracy')\n",
        "  plt.plot(epochs, val_accuracy, label='Validation accuracy')\n",
        "  if eval:\n",
        "    plt.plot(epochs, eval_accuracy, label='Evaluation accuracy')\n",
        "  plt.title('Accuracy')\n",
        "  plt.xlabel('Epochs')\n",
        "  plt.legend();"
      ]
    },
    {
      "cell_type": "code",
      "execution_count": null,
      "metadata": {
        "id": "cGkjjZnXvzf0"
      },
      "outputs": [],
      "source": [
        "(train_ds, valid_ds, test_ds), info = tfds.load('mnist',\n",
        "                                        split=['train[20%:]','train[0%:20%]', 'test'],\n",
        "                                        as_supervised=True, with_info=True)"
      ]
    },
    {
      "cell_type": "markdown",
      "metadata": {
        "id": "eAta7daFlfK3"
      },
      "source": [
        "# CNN model"
      ]
    },
    {
      "cell_type": "markdown",
      "metadata": {
        "id": "l9Tebi7bgOwe"
      },
      "source": [
        "## Loading a Handwritten Digits dataset from TF datasets"
      ]
    },
    {
      "cell_type": "code",
      "execution_count": null,
      "metadata": {
        "id": "_ODnETA7fsb1"
      },
      "outputs": [],
      "source": [
        "train_ds, valid_ds, test_ds = tfds.load('mnist',\n",
        "                                        split=['train[20%:]','train[0%:20%]', 'test'],\n",
        "                                        as_supervised=True)"
      ]
    },
    {
      "cell_type": "code",
      "execution_count": null,
      "metadata": {
        "colab": {
          "base_uri": "https://localhost:8080/"
        },
        "id": "M7EubwPe92D4",
        "outputId": "f84cea57-c809-43a4-f29f-ce3440f0f09f"
      },
      "outputs": [
        {
          "name": "stdout",
          "output_type": "stream",
          "text": [
            "Train set size:  48000\n",
            "Test set size:  10000\n",
            "Valid set size:  12000\n"
          ]
        }
      ],
      "source": [
        "print(\"Train set size: \", len(train_ds))\n",
        "print(\"Test set size: \", len(test_ds))\n",
        "print(\"Valid set size: \", len(valid_ds))"
      ]
    },
    {
      "cell_type": "code",
      "execution_count": null,
      "metadata": {
        "id": "vUB-hkXl_cX6"
      },
      "outputs": [],
      "source": [
        "train_ds = train_ds.shuffle(1024).batch(32).prefetch(tf.data.AUTOTUNE)\n",
        "test_ds = test_ds.batch(32).prefetch(tf.data.AUTOTUNE)\n",
        "valid_ds = valid_ds.batch(32).prefetch(tf.data.AUTOTUNE)"
      ]
    },
    {
      "cell_type": "code",
      "execution_count": null,
      "metadata": {
        "colab": {
          "base_uri": "https://localhost:8080/"
        },
        "id": "ebEuSeZ_-J4H",
        "outputId": "fa58fd33-e512-48cf-e0fc-761760407d50"
      },
      "outputs": [
        {
          "data": {
            "text/plain": [
              "(<PrefetchDataset element_spec=(TensorSpec(shape=(None, 28, 28, 1), dtype=tf.uint8, name=None), TensorSpec(shape=(None,), dtype=tf.int64, name=None))>,\n",
              " <PrefetchDataset element_spec=(TensorSpec(shape=(None, 28, 28, 1), dtype=tf.uint8, name=None), TensorSpec(shape=(None,), dtype=tf.int64, name=None))>,\n",
              " <PrefetchDataset element_spec=(TensorSpec(shape=(None, 28, 28, 1), dtype=tf.uint8, name=None), TensorSpec(shape=(None,), dtype=tf.int64, name=None))>)"
            ]
          },
          "execution_count": 8,
          "metadata": {},
          "output_type": "execute_result"
        }
      ],
      "source": [
        "train_ds, valid_ds, test_ds"
      ]
    },
    {
      "cell_type": "markdown",
      "metadata": {
        "id": "w0RhItkJnKJS"
      },
      "source": [
        "## Visualize random training batch"
      ]
    },
    {
      "cell_type": "code",
      "execution_count": null,
      "metadata": {
        "id": "Oa4W6pDtkiaX"
      },
      "outputs": [],
      "source": [
        "def view_random_batch(images, labels):\n",
        "  fig, axes = plt.subplots(8,4,figsize=(10,20))\n",
        "  axes = axes.flatten()\n",
        "  for image, label, ax in zip(images, labels, axes):\n",
        "    ax.imshow(image[:,:,0], cmap='gray')\n",
        "    ax.set_title(label)\n",
        "    ax.axis('off')"
      ]
    },
    {
      "cell_type": "code",
      "execution_count": null,
      "metadata": {
        "colab": {
          "base_uri": "https://localhost:8080/",
          "height": 1000
        },
        "id": "EZ8-pRMviWM8",
        "outputId": "3dfad499-6c55-4947-f0b3-f5cb98034fa5"
      },
      "outputs": [
        {
          "data": {
            "image/png": "[encoded data removed]",
            "text/plain": [
              "<Figure size 720x1440 with 32 Axes>"
            ]
          },
          "metadata": {},
          "output_type": "display_data"
        }
      ],
      "source": [
        "for image, label in train_ds.take(1):\n",
        "  view_random_batch(image.numpy(), label.numpy())"
      ]
    },
    {
      "cell_type": "markdown",
      "metadata": {
        "id": "hH7nl_XxnUQT"
      },
      "source": [
        "## Creating a regular CNN model for a baseline"
      ]
    },
    {
      "cell_type": "code",
      "execution_count": null,
      "metadata": {
        "id": "8TwcLfPMjzxg"
      },
      "outputs": [],
      "source": [
        "input = tf.keras.layers.Input((28,28,1))\n",
        "\n",
        "rescaled = tf.keras.layers.Rescaling(1/255.)(input)\n",
        "\n",
        "x = tf.keras.layers.Conv2D(32,3,activation='relu')(rescaled)\n",
        "x = tf.keras.layers.Conv2D(64,3,activation='relu')(x)\n",
        "x = tf.keras.layers.MaxPooling2D((2,2))(x)\n",
        "x = tf.keras.layers.Dropout(.25)(x)\n",
        "x = tf.keras.layers.Flatten()(x)\n",
        "x = tf.keras.layers.Dense(64, activation='relu')(x)\n",
        "x = tf.keras.layers.Dropout(.5)(x)\n",
        "output = tf.keras.layers.Dense(10, activation='softmax')(x)\n",
        "\n",
        "model_base = tf.keras.Model(inputs=input, outputs=output, name='mnist_baseline')"
      ]
    },
    {
      "cell_type": "code",
      "execution_count": null,
      "metadata": {
        "colab": {
          "base_uri": "https://localhost:8080/"
        },
        "id": "skYdym0EruZW",
        "outputId": "493c055a-bc61-4460-afc5-1608d35ab566"
      },
      "outputs": [
        {
          "name": "stdout",
          "output_type": "stream",
          "text": [
            "Model: \"mnist_baseline\"\n",
            "_________________________________________________________________\n",
            " Layer (type)                Output Shape              Param #   \n",
            "=================================================================\n",
            " input_1 (InputLayer)        [(None, 28, 28, 1)]       0         \n",
            "                                                                 \n",
            " rescaling (Rescaling)       (None, 28, 28, 1)         0         \n",
            "                                                                 \n",
            " conv2d (Conv2D)             (None, 26, 26, 32)        320       \n",
            "                                                                 \n",
            " conv2d_1 (Conv2D)           (None, 24, 24, 64)        18496     \n",
            "                                                                 \n",
            " max_pooling2d (MaxPooling2D  (None, 12, 12, 64)       0         \n",
            " )                                                               \n",
            "                                                                 \n",
            " dropout (Dropout)           (None, 12, 12, 64)        0         \n",
            "                                                                 \n",
            " flatten (Flatten)           (None, 9216)              0         \n",
            "                                                                 \n",
            " dense (Dense)               (None, 64)                589888    \n",
            "                                                                 \n",
            " dropout_1 (Dropout)         (None, 64)                0         \n",
            "                                                                 \n",
            " dense_1 (Dense)             (None, 10)                650       \n",
            "                                                                 \n",
            "=================================================================\n",
            "Total params: 609,354\n",
            "Trainable params: 609,354\n",
            "Non-trainable params: 0\n",
            "_________________________________________________________________\n"
          ]
        }
      ],
      "source": [
        "model_base.summary()"
      ]
    },
    {
      "cell_type": "code",
      "execution_count": null,
      "metadata": {
        "colab": {
          "base_uri": "https://localhost:8080/",
          "height": 953
        },
        "id": "U0l53sJ8r7aX",
        "outputId": "6427bfbb-1a73-4bad-af48-9aadacf5625a"
      },
      "outputs": [
        {
          "data": {
            "image/png": "[encoded data removed]",
            "text/plain": [
              "<IPython.core.display.Image object>"
            ]
          },
          "execution_count": 12,
          "metadata": {},
          "output_type": "execute_result"
        }
      ],
      "source": [
        "tf.keras.utils.plot_model(model_base, 'baseline_model.png')"
      ]
    },
    {
      "cell_type": "code",
      "execution_count": null,
      "metadata": {
        "id": "pA6JR48fsQyv"
      },
      "outputs": [],
      "source": [
        "model_base.compile(\n",
        "    loss=tf.keras.losses.SparseCategoricalCrossentropy(),\n",
        "    optimizer=tf.keras.optimizers.Adam(),\n",
        "    metrics=['accuracy']\n",
        ")"
      ]
    },
    {
      "cell_type": "code",
      "execution_count": null,
      "metadata": {
        "id": "JOl-NSNx2YQy"
      },
      "outputs": [],
      "source": [
        "early_stopping = tf.keras.callbacks.EarlyStopping(monitor='val_loss', patience=3)"
      ]
    },
    {
      "cell_type": "code",
      "execution_count": null,
      "metadata": {
        "colab": {
          "base_uri": "https://localhost:8080/"
        },
        "id": "3IK1Pk0Bsjrp",
        "outputId": "4b91b778-dd54-4357-9c3c-cbd4ee33266f"
      },
      "outputs": [
        {
          "name": "stdout",
          "output_type": "stream",
          "text": [
            "Epoch 1/15\n",
            "1500/1500 [==============================] - 126s 84ms/step - loss: 0.3090 - accuracy: 0.9032 - val_loss: 0.0565 - val_accuracy: 0.9855\n",
            "Epoch 2/15\n",
            "1500/1500 [==============================] - 123s 82ms/step - loss: 0.1341 - accuracy: 0.9592 - val_loss: 0.0501 - val_accuracy: 0.9849\n",
            "Epoch 3/15\n",
            "1500/1500 [==============================] - 123s 82ms/step - loss: 0.1013 - accuracy: 0.9699 - val_loss: 0.0466 - val_accuracy: 0.9877\n",
            "Epoch 4/15\n",
            "1500/1500 [==============================] - 123s 82ms/step - loss: 0.0882 - accuracy: 0.9740 - val_loss: 0.0333 - val_accuracy: 0.9916\n",
            "Epoch 5/15\n",
            "1500/1500 [==============================] - 123s 82ms/step - loss: 0.0757 - accuracy: 0.9765 - val_loss: 0.0411 - val_accuracy: 0.9888\n",
            "Epoch 6/15\n",
            "1500/1500 [==============================] - 122s 81ms/step - loss: 0.0663 - accuracy: 0.9784 - val_loss: 0.0387 - val_accuracy: 0.9894\n",
            "Epoch 7/15\n",
            "1500/1500 [==============================] - 122s 81ms/step - loss: 0.0618 - accuracy: 0.9801 - val_loss: 0.0323 - val_accuracy: 0.9922\n",
            "Epoch 8/15\n",
            "1500/1500 [==============================] - 123s 82ms/step - loss: 0.0554 - accuracy: 0.9828 - val_loss: 0.0435 - val_accuracy: 0.9888\n",
            "Epoch 9/15\n",
            "1500/1500 [==============================] - 123s 82ms/step - loss: 0.0496 - accuracy: 0.9838 - val_loss: 0.0417 - val_accuracy: 0.9872\n",
            "Epoch 10/15\n",
            "1500/1500 [==============================] - 123s 82ms/step - loss: 0.0486 - accuracy: 0.9842 - val_loss: 0.0364 - val_accuracy: 0.9900\n"
          ]
        }
      ],
      "source": [
        "history_base = model_base.fit(train_ds,\n",
        "                              epochs=15,\n",
        "                              steps_per_epoch=len(train_ds),\n",
        "                              validation_data=valid_ds,\n",
        "                              validation_steps=int(.15*len(valid_ds)),\n",
        "                              callbacks=[early_stopping])"
      ]
    },
    {
      "cell_type": "code",
      "execution_count": null,
      "metadata": {
        "colab": {
          "base_uri": "https://localhost:8080/"
        },
        "id": "zFshyuLuszHx",
        "outputId": "4405368c-5764-4966-9218-08919ab52aac"
      },
      "outputs": [
        {
          "name": "stdout",
          "output_type": "stream",
          "text": [
            "313/313 [==============================] - 7s 21ms/step - loss: 0.0326 - accuracy: 0.9908\n"
          ]
        },
        {
          "data": {
            "text/plain": [
              "[0.03256892412900925, 0.9908000230789185]"
            ]
          },
          "execution_count": 21,
          "metadata": {},
          "output_type": "execute_result"
        }
      ],
      "source": [
        "evaluation_base = model_base.evaluate(test_ds)\n",
        "evaluation_base"
      ]
    },
    {
      "cell_type": "code",
      "execution_count": null,
      "metadata": {
        "id": "mpGZrIqbGFfl"
      },
      "outputs": [],
      "source": [
        "model_base.save('base_model.h5')"
      ]
    },
    {
      "cell_type": "code",
      "execution_count": null,
      "metadata": {
        "colab": {
          "base_uri": "https://localhost:8080/",
          "height": 573
        },
        "id": "zAk_qjsRHLcw",
        "outputId": "2e941c95-c0af-4d9c-b70c-b2bc189fd233"
      },
      "outputs": [
        {
          "data": {
            "image/png": "[encoded data removed]",
            "text/plain": [
              "<Figure size 432x288 with 1 Axes>"
            ]
          },
          "metadata": {},
          "output_type": "display_data"
        },
        {
          "data": {
            "image/png": "[encoded data removed]",
            "text/plain": [
              "<Figure size 432x288 with 1 Axes>"
            ]
          },
          "metadata": {},
          "output_type": "display_data"
        }
      ],
      "source": [
        "plot_loss_curves(history_base, evaluation_base)"
      ]
    },
    {
      "cell_type": "code",
      "execution_count": null,
      "metadata": {
        "id": "MmkhI_ftHQMB"
      },
      "outputs": [],
      "source": [
        "base_json = {\n",
        "    'history':history_base.history,\n",
        "    'evaluation':{\n",
        "        'loss':evaluation_base[0],\n",
        "        'accuracy':evaluation_base[1]\n",
        "    }\n",
        "}"
      ]
    },
    {
      "cell_type": "code",
      "execution_count": null,
      "metadata": {
        "id": "dgV0HIcwJep2"
      },
      "outputs": [],
      "source": [
        "import json\n",
        "\n",
        "with open('base_data.json','w') as f:\n",
        "  json.dump(base_json, f)"
      ]
    },
    {
      "cell_type": "markdown",
      "metadata": {
        "id": "NDE-sRpoKT5w"
      },
      "source": [
        "# Creating a siamese network"
      ]
    },
    {
      "cell_type": "markdown",
      "metadata": {
        "id": "FQtmS9FulkG5"
      },
      "source": [
        "## Loading data"
      ]
    },
    {
      "cell_type": "code",
      "execution_count": null,
      "metadata": {
        "colab": {
          "base_uri": "https://localhost:8080/",
          "height": 84,
          "referenced_widgets": [
            "4a4fc62e38474000a8e8c1adce168935",
            "df8725b88a69408786acbad7a78dbf65",
            "c1d8a913c1cb4c458592777997fa0b69",
            "bc8529fa2e2d453683c526e589b9959d",
            "5bbcb74d7300434187e084d8418bf7f1",
            "d0de5b5e241f48039ff7af327c710570",
            "9640452efc6647e1af00f35c8d18ac28",
            "e130759a5ffb4341b0dea781f842b1b6",
            "3bf3dd7f0c0e462b81a2b86c76e87551",
            "5900961bed8d4ba688d98a3937f3f355",
            "ad85f2fbdca64c91b5cf0dc43cce9c7e"
          ]
        },
        "id": "XEYzhvf6JfdD",
        "outputId": "8e82c5e7-7c77-4d1b-851e-dce00577fc45"
      },
      "outputs": [
        {
          "name": "stdout",
          "output_type": "stream",
          "text": [
            "\u001b[1mDownloading and preparing dataset 11.06 MiB (download: 11.06 MiB, generated: 21.00 MiB, total: 32.06 MiB) to ~/tensorflow_datasets/mnist/3.0.1...\u001b[0m\n"
          ]
        },
        {
          "data": {
            "application/vnd.jupyter.widget-view+json": {
              "model_id": "4a4fc62e38474000a8e8c1adce168935",
              "version_major": 2,
              "version_minor": 0
            },
            "text/plain": [
              "Dl Completed...:   0%|          | 0/4 [00:00<?, ? file/s]"
            ]
          },
          "metadata": {},
          "output_type": "display_data"
        },
        {
          "name": "stdout",
          "output_type": "stream",
          "text": [
            "\u001b[1mDataset mnist downloaded and prepared to ~/tensorflow_datasets/mnist/3.0.1. Subsequent calls will reuse this data.\u001b[0m\n"
          ]
        }
      ],
      "source": [
        "train_ds, valid_ds, test_ds = tfds.load('mnist',\n",
        "                                        split=['train[20%:]','train[0%:20%]', 'test'],\n",
        "                                        as_supervised=True)"
      ]
    },
    {
      "cell_type": "code",
      "execution_count": null,
      "metadata": {
        "colab": {
          "base_uri": "https://localhost:8080/"
        },
        "id": "6SHO_7jLlWH7",
        "outputId": "4cdae625-ce64-4abc-8f6e-22890ccae56a"
      },
      "outputs": [
        {
          "name": "stdout",
          "output_type": "stream",
          "text": [
            "Train set size:  48000\n",
            "Test set size:  10000\n",
            "Valid set size:  12000\n"
          ]
        }
      ],
      "source": [
        "print(\"Train set size: \", len(train_ds))\n",
        "print(\"Test set size: \", len(test_ds))\n",
        "print(\"Valid set size: \", len(valid_ds))"
      ]
    },
    {
      "cell_type": "markdown",
      "metadata": {
        "id": "Ms1HwmzBll_j"
      },
      "source": [
        "## Helper functions\n",
        "\n",
        "Inspiration: https://deepnote.com/@svpino/Contrastive-Learning-7a0ec6e4-6a1d-43c7-9d30-aad8ad367334\n",
        "\n",
        "The difference in data preparation:\n",
        "1. We need to create a pairs of data, label them 1 if they match and 0 if they dont;\n",
        "2. Create normalization, accuracy and loss function;"
      ]
    },
    {
      "cell_type": "code",
      "execution_count": null,
      "metadata": {
        "id": "C0yEAPVAozTV"
      },
      "outputs": [],
      "source": [
        "def generate_pairs(dataset):\n",
        "  '''\n",
        "    Code taken from @svpino deepnote link:\n",
        "      https://deepnote.com/@svpino/Contrastive-Learning-7a0ec6e4-6a1d-43c7-9d30-aad8ad367334\n",
        "  '''\n",
        "  x_pairs = []\n",
        "  y_pairs = []\n",
        "\n",
        "  # converting PrefetchDataset to python list\n",
        "  images, labels = zip(*[(example.numpy(), label.numpy()) for example, label in dataset])\n",
        "\n",
        "  for i in range(len(images)):\n",
        "    label = labels[i]\n",
        "\n",
        "    j = np.random.choice(np.where(labels==label)[0])\n",
        "    x_pairs.append([images[i], images[j]])\n",
        "    y_pairs.append([1])\n",
        "\n",
        "    k = np.random.choice(np.where(labels!=label)[0])\n",
        "    x_pairs.append([images[i], images[k]])\n",
        "    y_pairs.append([0])\n",
        "\n",
        "  #shuffling x_pairs and y_pairs\n",
        "  indices = np.arange(len(x_pairs))\n",
        "  np.random.shuffle(indices)\n",
        "\n",
        "  return np.array(x_pairs)[indices], np.array(y_pairs)[indices]\n",
        "  "
      ]
    },
    {
      "cell_type": "code",
      "execution_count": null,
      "metadata": {
        "id": "h57K4LdxtplP"
      },
      "outputs": [],
      "source": [
        "def norm(vectors):\n",
        "  '''\n",
        "    Code taken from @svpino deepnote link:\n",
        "      https://deepnote.com/@svpino/Contrastive-Learning-7a0ec6e4-6a1d-43c7-9d30-aad8ad367334\n",
        "  '''\n",
        "  return tf.norm(vectors[0]-vectors[1], axis=1, keepdims=True)\n",
        "\n",
        "def accuracy(y_true, y_pred):\n",
        "  '''\n",
        "    Code taken from @svpino deepnote link:\n",
        "      https://deepnote.com/@svpino/Contrastive-Learning-7a0ec6e4-6a1d-43c7-9d30-aad8ad367334\n",
        "  '''\n",
        "  # The close y_pred is to 0, the shorter difference between images\n",
        "  return tf.metrics.binary_accuracy(y_true, 1 - y_pred)\n",
        "\n",
        "def contrastive_loss(y_true, y_pred):\n",
        "  '''\n",
        "    Code taken from @svpino deepnote link:\n",
        "      https://deepnote.com/@svpino/Contrastive-Learning-7a0ec6e4-6a1d-43c7-9d30-aad8ad367334\n",
        "  '''\n",
        "  margin = 1\n",
        "  y_true = tf.cast(y_true, y_pred.dtype)\n",
        "\n",
        "  loss = y_true / 2 * tf.keras.backend.square(y_pred) + (1-y_true) / 2 \\\n",
        "        + tf.keras.backend.square(tf.keras.backend.maximum(0.0, margin - y_pred))\n",
        "\n",
        "  return loss\n"
      ]
    },
    {
      "cell_type": "markdown",
      "metadata": {
        "id": "wpRZ_IA5xHIq"
      },
      "source": [
        "## Data preparation"
      ]
    },
    {
      "cell_type": "code",
      "execution_count": null,
      "metadata": {
        "id": "0RtaASiUvra7"
      },
      "outputs": [],
      "source": [
        "x_train, y_train = generate_pairs(train_ds)\n",
        "x_val, y_val = generate_pairs(valid_ds)\n",
        "x_test, y_test = generate_pairs(test_ds)"
      ]
    },
    {
      "cell_type": "code",
      "execution_count": null,
      "metadata": {
        "colab": {
          "base_uri": "https://localhost:8080/"
        },
        "id": "6jxjYTw5lF8E",
        "outputId": "5eea5ab1-592c-4673-f7ca-b73e9a1e1c30"
      },
      "outputs": [
        {
          "data": {
            "text/plain": [
              "(96000, 1)"
            ]
          },
          "execution_count": 104,
          "metadata": {},
          "output_type": "execute_result"
        }
      ],
      "source": [
        "y_train.shape"
      ]
    },
    {
      "cell_type": "code",
      "execution_count": null,
      "metadata": {
        "colab": {
          "base_uri": "https://localhost:8080/",
          "height": 607
        },
        "id": "_1LG3_3_kw91",
        "outputId": "8e151394-8c4d-4ea4-9b8c-6197d51cf185"
      },
      "outputs": [
        {
          "data": {
            "image/png": "[encoded data removed]",
            "text/plain": [
              "<Figure size 720x720 with 4 Axes>"
            ]
          },
          "metadata": {},
          "output_type": "display_data"
        }
      ],
      "source": [
        "fig, axes = plt.subplots(2,2,figsize=(10,10))\n",
        "for idx,(a,b,c) in enumerate(zip(x_train[:2,0,...],x_train[:2,1,...],y_train[:2])):\n",
        "    axes[0, idx].imshow(a[:,:,0], cmap='gray')\n",
        "    axes[0, idx].set_title(c[0])\n",
        "    axes[1, idx].imshow(b[:,:,0], cmap='gray')"
      ]
    },
    {
      "cell_type": "code",
      "execution_count": null,
      "metadata": {
        "id": "h3p-IcY1yjrO"
      },
      "outputs": [],
      "source": [
        "def prepare_dataset(examples, labels):\n",
        "  dataset = tf.data.Dataset.from_tensor_slices(({'input1':examples[:,0], 'input2':examples[:,1]}, labels))\n",
        "\n",
        "  return dataset.batch(32, drop_remainder=True).prefetch(tf.data.AUTOTUNE)"
      ]
    },
    {
      "cell_type": "code",
      "execution_count": null,
      "metadata": {
        "id": "3K4BWxKo2c4b"
      },
      "outputs": [],
      "source": [
        "train_ds = prepare_dataset(x_train, y_train)\n",
        "valid_ds = prepare_dataset(x_val,y_val)\n",
        "test_ds = prepare_dataset(x_test,y_test)"
      ]
    },
    {
      "cell_type": "code",
      "execution_count": null,
      "metadata": {
        "colab": {
          "base_uri": "https://localhost:8080/",
          "height": 601
        },
        "id": "dX0UXkHvafnb",
        "outputId": "94b9b151-9b3d-4479-f50f-e4ad3da0825d"
      },
      "outputs": [
        {
          "data": {
            "image/png": "[encoded data removed]",
            "text/plain": [
              "<Figure size 1800x720 with 10 Axes>"
            ]
          },
          "metadata": {},
          "output_type": "display_data"
        }
      ],
      "source": [
        "for i,j in train_ds.take(1):\n",
        "  l = 5\n",
        "  img1 = i['input1'][:l]\n",
        "  img2 = i['input2'][:l]\n",
        "  label = j[:l]\n",
        "  fig, axes = plt.subplots(2,l,figsize=(l*5,10))\n",
        "  for idx,(a,b,c) in enumerate(zip(img1,img2,label)):\n",
        "    axes[0, idx].imshow(a[:,:,0], cmap='gray')\n",
        "    axes[0, idx].set_title(c.numpy()[0])\n",
        "    axes[1, idx].imshow(b[:,:,0], cmap='gray')"
      ]
    },
    {
      "cell_type": "markdown",
      "metadata": {
        "id": "KaJzNVmm3y5l"
      },
      "source": [
        "## Creating model"
      ]
    },
    {
      "cell_type": "code",
      "execution_count": null,
      "metadata": {
        "id": "NPu1TvZB3llX"
      },
      "outputs": [],
      "source": [
        "def siamese_twin():\n",
        "  input = tf.keras.layers.Input((28,28,1))\n",
        "\n",
        "  rescaled = tf.keras.layers.Rescaling(1/255.)(input)\n",
        "\n",
        "  x = tf.keras.layers.Conv2D(128,2,activation='relu')(rescaled)\n",
        "  x = tf.keras.layers.MaxPooling2D((2,2))(x)\n",
        "  x = tf.keras.layers.Dropout(.4)(x)\n",
        "\n",
        "  x = tf.keras.layers.Conv2D(128,2,activation='relu')(x)\n",
        "  x = tf.keras.layers.MaxPooling2D((2,2))(x)\n",
        "  x = tf.keras.layers.Dropout(.4)(x)\n",
        "\n",
        "  x = tf.keras.layers.Conv2D(64,2,activation='relu')(x)\n",
        "  x = tf.keras.layers.MaxPooling2D((2,2))(x)\n",
        "  x = tf.keras.layers.Dropout(.4)(x)\n",
        "\n",
        "  x = tf.keras.layers.GlobalAveragePooling2D()(x)\n",
        "\n",
        "  output = tf.keras.layers.Dense(128, activation=None)(x)\n",
        "\n",
        "  return tf.keras.Model(input, output)\n",
        "\n",
        "def siamese_network():\n",
        "  input1 = tf.keras.layers.Input((28,28,1), name='input1')\n",
        "  input2 = tf.keras.layers.Input((28,28,1), name='input2')\n",
        "\n",
        "  twin = siamese_twin()\n",
        "\n",
        "  distance = tf.keras.layers.Lambda(norm)([\n",
        "      twin(input1),\n",
        "      twin(input2)\n",
        "  ])\n",
        "\n",
        "  return tf.keras.Model(inputs=[input1, input2], outputs=distance)"
      ]
    },
    {
      "cell_type": "code",
      "execution_count": null,
      "metadata": {
        "colab": {
          "base_uri": "https://localhost:8080/"
        },
        "id": "KsZEnwAI52yB",
        "outputId": "5102c49f-2f92-4df9-a6cb-bd02c656d861"
      },
      "outputs": [
        {
          "name": "stdout",
          "output_type": "stream",
          "text": [
            "Model: \"model_5\"\n",
            "__________________________________________________________________________________________________\n",
            " Layer (type)                   Output Shape         Param #     Connected to                     \n",
            "==================================================================================================\n",
            " input1 (InputLayer)            [(None, 28, 28, 1)]  0           []                               \n",
            "                                                                                                  \n",
            " input2 (InputLayer)            [(None, 28, 28, 1)]  0           []                               \n",
            "                                                                                                  \n",
            " model_4 (Functional)           (None, 128)          107456      ['input1[0][0]',                 \n",
            "                                                                  'input2[0][0]']                 \n",
            "                                                                                                  \n",
            " lambda_2 (Lambda)              (None, 1)            0           ['model_4[0][0]',                \n",
            "                                                                  'model_4[1][0]']                \n",
            "                                                                                                  \n",
            "==================================================================================================\n",
            "Total params: 107,456\n",
            "Trainable params: 107,456\n",
            "Non-trainable params: 0\n",
            "__________________________________________________________________________________________________\n"
          ]
        }
      ],
      "source": [
        "model = siamese_network()\n",
        "model.compile(\n",
        "    loss=contrastive_loss,\n",
        "    optimizer=tf.keras.optimizers.Adam(),\n",
        "    metrics=[accuracy]\n",
        ")\n",
        "model.summary()"
      ]
    },
    {
      "cell_type": "code",
      "execution_count": null,
      "metadata": {
        "colab": {
          "base_uri": "https://localhost:8080/",
          "height": 272
        },
        "id": "fDqqPrUM673W",
        "outputId": "3d80a123-3555-48ff-fe2e-6c23de0bc2fc"
      },
      "outputs": [
        {
          "data": {
            "image/png": "[encoded data removed]",
            "text/plain": [
              "<IPython.core.display.Image object>"
            ]
          },
          "execution_count": 18,
          "metadata": {},
          "output_type": "execute_result"
        }
      ],
      "source": [
        "tf.keras.utils.plot_model(model, 'siamese_model.png')"
      ]
    },
    {
      "cell_type": "code",
      "execution_count": null,
      "metadata": {
        "colab": {
          "base_uri": "https://localhost:8080/"
        },
        "id": "b2lbPXvk6O-n",
        "outputId": "f8658d92-e020-4a19-e83f-9e23b0b5a616"
      },
      "outputs": [
        {
          "name": "stdout",
          "output_type": "stream",
          "text": [
            "Epoch 1/10\n",
            "3000/3000 [==============================] - 597s 199ms/step - loss: 0.4504 - accuracy: 0.5007 - val_loss: 0.6202 - val_accuracy: 0.8180\n",
            "Epoch 2/10\n",
            "3000/3000 [==============================] - 596s 199ms/step - loss: 0.4410 - accuracy: 0.5026 - val_loss: 0.5707 - val_accuracy: 0.8990\n",
            "Epoch 3/10\n",
            "3000/3000 [==============================] - 589s 196ms/step - loss: 0.4381 - accuracy: 0.5030 - val_loss: 0.5530 - val_accuracy: 0.9142\n",
            "Epoch 4/10\n",
            "3000/3000 [==============================] - 596s 199ms/step - loss: 0.4370 - accuracy: 0.5038 - val_loss: 0.5473 - val_accuracy: 0.9229\n",
            "Epoch 5/10\n",
            "3000/3000 [==============================] - 589s 196ms/step - loss: 0.4359 - accuracy: 0.5039 - val_loss: 0.5508 - val_accuracy: 0.9293\n",
            "Epoch 6/10\n",
            "3000/3000 [==============================] - 592s 197ms/step - loss: 0.4358 - accuracy: 0.5042 - val_loss: 0.5468 - val_accuracy: 0.9305\n",
            "Epoch 7/10\n",
            "3000/3000 [==============================] - 589s 196ms/step - loss: 0.4356 - accuracy: 0.5042 - val_loss: 0.5424 - val_accuracy: 0.9327\n",
            "Epoch 8/10\n",
            "3000/3000 [==============================] - 588s 196ms/step - loss: 0.4352 - accuracy: 0.5045 - val_loss: 0.5430 - val_accuracy: 0.9389\n",
            "Epoch 9/10\n",
            "3000/3000 [==============================] - 588s 196ms/step - loss: 0.4349 - accuracy: 0.5042 - val_loss: 0.5369 - val_accuracy: 0.9357\n",
            "Epoch 10/10\n",
            "3000/3000 [==============================] - 595s 198ms/step - loss: 0.4348 - accuracy: 0.5045 - val_loss: 0.5327 - val_accuracy: 0.9342\n"
          ]
        }
      ],
      "source": [
        "history_siamese = model.fit(\n",
        "    train_ds,\n",
        "    validation_data=valid_ds,\n",
        "    epochs=10\n",
        ")"
      ]
    },
    {
      "cell_type": "code",
      "execution_count": null,
      "metadata": {
        "colab": {
          "base_uri": "https://localhost:8080/"
        },
        "id": "j5P-sf1c6ukp",
        "outputId": "5afc87e5-ddf3-494f-9bea-685ae309b50c"
      },
      "outputs": [
        {
          "name": "stdout",
          "output_type": "stream",
          "text": [
            "625/625 [==============================] - 30s 48ms/step - loss: 0.5351 - accuracy: 0.9341\n"
          ]
        },
        {
          "data": {
            "text/plain": [
              "[0.5350714921951294, 0.934149980545044]"
            ]
          },
          "execution_count": 118,
          "metadata": {},
          "output_type": "execute_result"
        }
      ],
      "source": [
        "model.evaluate(test_ds)"
      ]
    },
    {
      "cell_type": "code",
      "execution_count": null,
      "metadata": {
        "colab": {
          "base_uri": "https://localhost:8080/",
          "height": 573
        },
        "id": "SFEIPsn3-QaB",
        "outputId": "52be295d-209d-4d9a-b791-7841e3b10604"
      },
      "outputs": [
        {
          "data": {
            "image/png": "[encoded data removed]",
            "text/plain": [
              "<Figure size 432x288 with 1 Axes>"
            ]
          },
          "metadata": {},
          "output_type": "display_data"
        },
        {
          "data": {
            "image/png": "[encoded data removed]",
            "text/plain": [
              "<Figure size 432x288 with 1 Axes>"
            ]
          },
          "metadata": {},
          "output_type": "display_data"
        }
      ],
      "source": [
        "plot_loss_curves(history_siamese)"
      ]
    },
    {
      "cell_type": "code",
      "execution_count": null,
      "metadata": {
        "id": "r_Cr9xLW-btl"
      },
      "outputs": [],
      "source": [
        "model.save('siamese_1.h5')"
      ]
    },
    {
      "cell_type": "code",
      "execution_count": null,
      "metadata": {
        "id": "Ej_DCR5Z-iUG"
      },
      "outputs": [],
      "source": [
        "model = tf.keras.models.load_model('siamese_1.h5', custom_objects={'contrastive_loss':contrastive_loss})"
      ]
    },
    {
      "cell_type": "code",
      "execution_count": null,
      "metadata": {
        "id": "r3zEPeAzo-1O"
      },
      "outputs": [],
      "source": [
        "x_test, y_test = generate_pairs(test_ds)"
      ]
    },
    {
      "cell_type": "code",
      "execution_count": null,
      "metadata": {
        "id": "7XnGoghAsg8P"
      },
      "outputs": [],
      "source": [
        "# Get random  subset of 5 from test data\n",
        "i1 = []\n",
        "i2 = []\n",
        "l = []\n",
        "\n",
        "start_idx = np.random.randint(len(x_test)-5)\n",
        "\n",
        "for i in range(start_idx,start_idx+5):\n",
        "  #expand a batch dimension to images\n",
        "  i1.append(tf.expand_dims(x_test[i,0],axis=0))\n",
        "  i2.append(tf.expand_dims(x_test[i,1],axis=0))\n",
        "\n",
        "  l.append(y_test[i])\n",
        "\n",
        "#convert data to tf dataset\n",
        "test_ds = tf.data.Dataset.from_tensor_slices(({'input1':np.array(i1), 'input2':np.array(i2)})).prefetch(tf.data.AUTOTUNE)\n",
        "\n",
        "#making predictions on subset\n",
        "predictions = model.predict(test_ds)\n",
        "\n",
        "# thresholding values to make comparisons.\n",
        "# if prediction is above .5, this means images are less similar\n",
        "# else if prediction is below .5 this means images are more similar\n",
        "th_pred = np.where(predictions >= 0.5,0,1)\n",
        "th_pred= np.squeeze(th_pred)"
      ]
    },
    {
      "cell_type": "code",
      "execution_count": null,
      "metadata": {
        "colab": {
          "base_uri": "https://localhost:8080/"
        },
        "id": "pVNC8Y61pLJQ",
        "outputId": "3fb402f2-f972-4999-ed97-5cb192cc508e"
      },
      "outputs": [
        {
          "data": {
            "text/plain": [
              "array([0, 1, 1, 1, 1])"
            ]
          },
          "execution_count": 11,
          "metadata": {},
          "output_type": "execute_result"
        }
      ],
      "source": [
        "th_pred"
      ]
    },
    {
      "cell_type": "code",
      "execution_count": null,
      "metadata": {
        "colab": {
          "base_uri": "https://localhost:8080/",
          "height": 494
        },
        "id": "Wtl2t31Fy0-F",
        "outputId": "22218746-54a8-4cb2-8079-aa7ff0746f73"
      },
      "outputs": [
        {
          "data": {
            "image/png": "[encoded data removed]",
            "text/plain": [
              "<Figure size 1440x576 with 10 Axes>"
            ]
          },
          "metadata": {},
          "output_type": "display_data"
        }
      ],
      "source": [
        "#plotting prediction results\n",
        "fig, axes = plt.subplots(2,5,figsize=(20,8))\n",
        "for idx,i in enumerate(test_ds.take(5)):\n",
        "  img1 = np.squeeze(i['input1'],axis=0)\n",
        "  img2 = np.squeeze(i['input2'],axis=0)\n",
        "\n",
        "  axes[0, idx].imshow(img1[:,:,0], cmap='gray')\n",
        "  axes[0, idx].set_title(f'predicted:{th_pred[idx]}')\n",
        "  axes[1, idx].imshow(img2[:,:,0], cmap='gray')"
      ]
    },
    {
      "cell_type": "code",
      "execution_count": null,
      "metadata": {
        "id": "U6uTs1W4pX_I"
      },
      "outputs": [],
      "source": [
        ""
      ]
    }
  ],
  "metadata": {
    "colab": {
      "collapsed_sections": [
        "eAta7daFlfK3"
      ],
      "name": "ContrastLearning_HandwrittenDigits.ipynb",
      "toc_visible": true,
      "provenance": []
    },
    "kernelspec": {
      "display_name": "Python 3",
      "name": "python3"
    },
    "language_info": {
      "name": "python"
    },
    "widgets": {
      "application/vnd.jupyter.widget-state+json": {
        "3bf3dd7f0c0e462b81a2b86c76e87551": {
          "model_module": "@jupyter-widgets/controls",
          "model_module_version": "1.5.0",
          "model_name": "ProgressStyleModel",
          "state": {
            "_model_module": "@jupyter-widgets/controls",
            "_model_module_version": "1.5.0",
            "_model_name": "ProgressStyleModel",
            "_view_count": null,
            "_view_module": "@jupyter-widgets/base",
            "_view_module_version": "1.2.0",
            "_view_name": "StyleView",
            "bar_color": null,
            "description_width": ""
          }
        },
        "4a4fc62e38474000a8e8c1adce168935": {
          "model_module": "@jupyter-widgets/controls",
          "model_module_version": "1.5.0",
          "model_name": "HBoxModel",
          "state": {
            "_dom_classes": [],
            "_model_module": "@jupyter-widgets/controls",
            "_model_module_version": "1.5.0",
            "_model_name": "HBoxModel",
            "_view_count": null,
            "_view_module": "@jupyter-widgets/controls",
            "_view_module_version": "1.5.0",
            "_view_name": "HBoxView",
            "box_style": "",
            "children": [
              "IPY_MODEL_df8725b88a69408786acbad7a78dbf65",
              "IPY_MODEL_c1d8a913c1cb4c458592777997fa0b69",
              "IPY_MODEL_bc8529fa2e2d453683c526e589b9959d"
            ],
            "layout": "IPY_MODEL_5bbcb74d7300434187e084d8418bf7f1"
          }
        },
        "5900961bed8d4ba688d98a3937f3f355": {
          "model_module": "@jupyter-widgets/base",
          "model_module_version": "1.2.0",
          "model_name": "LayoutModel",
          "state": {
            "_model_module": "@jupyter-widgets/base",
            "_model_module_version": "1.2.0",
            "_model_name": "LayoutModel",
            "_view_count": null,
            "_view_module": "@jupyter-widgets/base",
            "_view_module_version": "1.2.0",
            "_view_name": "LayoutView",
            "align_content": null,
            "align_items": null,
            "align_self": null,
            "border": null,
            "bottom": null,
            "display": null,
            "flex": null,
            "flex_flow": null,
            "grid_area": null,
            "grid_auto_columns": null,
            "grid_auto_flow": null,
            "grid_auto_rows": null,
            "grid_column": null,
            "grid_gap": null,
            "grid_row": null,
            "grid_template_areas": null,
            "grid_template_columns": null,
            "grid_template_rows": null,
            "height": null,
            "justify_content": null,
            "justify_items": null,
            "left": null,
            "margin": null,
            "max_height": null,
            "max_width": null,
            "min_height": null,
            "min_width": null,
            "object_fit": null,
            "object_position": null,
            "order": null,
            "overflow": null,
            "overflow_x": null,
            "overflow_y": null,
            "padding": null,
            "right": null,
            "top": null,
            "visibility": null,
            "width": null
          }
        },
        "5bbcb74d7300434187e084d8418bf7f1": {
          "model_module": "@jupyter-widgets/base",
          "model_module_version": "1.2.0",
          "model_name": "LayoutModel",
          "state": {
            "_model_module": "@jupyter-widgets/base",
            "_model_module_version": "1.2.0",
            "_model_name": "LayoutModel",
            "_view_count": null,
            "_view_module": "@jupyter-widgets/base",
            "_view_module_version": "1.2.0",
            "_view_name": "LayoutView",
            "align_content": null,
            "align_items": null,
            "align_self": null,
            "border": null,
            "bottom": null,
            "display": null,
            "flex": null,
            "flex_flow": null,
            "grid_area": null,
            "grid_auto_columns": null,
            "grid_auto_flow": null,
            "grid_auto_rows": null,
            "grid_column": null,
            "grid_gap": null,
            "grid_row": null,
            "grid_template_areas": null,
            "grid_template_columns": null,
            "grid_template_rows": null,
            "height": null,
            "justify_content": null,
            "justify_items": null,
            "left": null,
            "margin": null,
            "max_height": null,
            "max_width": null,
            "min_height": null,
            "min_width": null,
            "object_fit": null,
            "object_position": null,
            "order": null,
            "overflow": null,
            "overflow_x": null,
            "overflow_y": null,
            "padding": null,
            "right": null,
            "top": null,
            "visibility": null,
            "width": null
          }
        },
        "9640452efc6647e1af00f35c8d18ac28": {
          "model_module": "@jupyter-widgets/controls",
          "model_module_version": "1.5.0",
          "model_name": "DescriptionStyleModel",
          "state": {
            "_model_module": "@jupyter-widgets/controls",
            "_model_module_version": "1.5.0",
            "_model_name": "DescriptionStyleModel",
            "_view_count": null,
            "_view_module": "@jupyter-widgets/base",
            "_view_module_version": "1.2.0",
            "_view_name": "StyleView",
            "description_width": ""
          }
        },
        "ad85f2fbdca64c91b5cf0dc43cce9c7e": {
          "model_module": "@jupyter-widgets/controls",
          "model_module_version": "1.5.0",
          "model_name": "DescriptionStyleModel",
          "state": {
            "_model_module": "@jupyter-widgets/controls",
            "_model_module_version": "1.5.0",
            "_model_name": "DescriptionStyleModel",
            "_view_count": null,
            "_view_module": "@jupyter-widgets/base",
            "_view_module_version": "1.2.0",
            "_view_name": "StyleView",
            "description_width": ""
          }
        },
        "bc8529fa2e2d453683c526e589b9959d": {
          "model_module": "@jupyter-widgets/controls",
          "model_module_version": "1.5.0",
          "model_name": "HTMLModel",
          "state": {
            "_dom_classes": [],
            "_model_module": "@jupyter-widgets/controls",
            "_model_module_version": "1.5.0",
            "_model_name": "HTMLModel",
            "_view_count": null,
            "_view_module": "@jupyter-widgets/controls",
            "_view_module_version": "1.5.0",
            "_view_name": "HTMLView",
            "description": "",
            "description_tooltip": null,
            "layout": "IPY_MODEL_5900961bed8d4ba688d98a3937f3f355",
            "placeholder": "​",
            "style": "IPY_MODEL_ad85f2fbdca64c91b5cf0dc43cce9c7e",
            "value": " 4/4 [00:02&lt;00:00,  1.06 file/s]"
          }
        },
        "c1d8a913c1cb4c458592777997fa0b69": {
          "model_module": "@jupyter-widgets/controls",
          "model_module_version": "1.5.0",
          "model_name": "FloatProgressModel",
          "state": {
            "_dom_classes": [],
            "_model_module": "@jupyter-widgets/controls",
            "_model_module_version": "1.5.0",
            "_model_name": "FloatProgressModel",
            "_view_count": null,
            "_view_module": "@jupyter-widgets/controls",
            "_view_module_version": "1.5.0",
            "_view_name": "ProgressView",
            "bar_style": "success",
            "description": "",
            "description_tooltip": null,
            "layout": "IPY_MODEL_e130759a5ffb4341b0dea781f842b1b6",
            "max": 4,
            "min": 0,
            "orientation": "horizontal",
            "style": "IPY_MODEL_3bf3dd7f0c0e462b81a2b86c76e87551",
            "value": 4
          }
        },
        "d0de5b5e241f48039ff7af327c710570": {
          "model_module": "@jupyter-widgets/base",
          "model_module_version": "1.2.0",
          "model_name": "LayoutModel",
          "state": {
            "_model_module": "@jupyter-widgets/base",
            "_model_module_version": "1.2.0",
            "_model_name": "LayoutModel",
            "_view_count": null,
            "_view_module": "@jupyter-widgets/base",
            "_view_module_version": "1.2.0",
            "_view_name": "LayoutView",
            "align_content": null,
            "align_items": null,
            "align_self": null,
            "border": null,
            "bottom": null,
            "display": null,
            "flex": null,
            "flex_flow": null,
            "grid_area": null,
            "grid_auto_columns": null,
            "grid_auto_flow": null,
            "grid_auto_rows": null,
            "grid_column": null,
            "grid_gap": null,
            "grid_row": null,
            "grid_template_areas": null,
            "grid_template_columns": null,
            "grid_template_rows": null,
            "height": null,
            "justify_content": null,
            "justify_items": null,
            "left": null,
            "margin": null,
            "max_height": null,
            "max_width": null,
            "min_height": null,
            "min_width": null,
            "object_fit": null,
            "object_position": null,
            "order": null,
            "overflow": null,
            "overflow_x": null,
            "overflow_y": null,
            "padding": null,
            "right": null,
            "top": null,
            "visibility": null,
            "width": null
          }
        },
        "df8725b88a69408786acbad7a78dbf65": {
          "model_module": "@jupyter-widgets/controls",
          "model_module_version": "1.5.0",
          "model_name": "HTMLModel",
          "state": {
            "_dom_classes": [],
            "_model_module": "@jupyter-widgets/controls",
            "_model_module_version": "1.5.0",
            "_model_name": "HTMLModel",
            "_view_count": null,
            "_view_module": "@jupyter-widgets/controls",
            "_view_module_version": "1.5.0",
            "_view_name": "HTMLView",
            "description": "",
            "description_tooltip": null,
            "layout": "IPY_MODEL_d0de5b5e241f48039ff7af327c710570",
            "placeholder": "​",
            "style": "IPY_MODEL_9640452efc6647e1af00f35c8d18ac28",
            "value": "Dl Completed...: 100%"
          }
        },
        "e130759a5ffb4341b0dea781f842b1b6": {
          "model_module": "@jupyter-widgets/base",
          "model_module_version": "1.2.0",
          "model_name": "LayoutModel",
          "state": {
            "_model_module": "@jupyter-widgets/base",
            "_model_module_version": "1.2.0",
            "_model_name": "LayoutModel",
            "_view_count": null,
            "_view_module": "@jupyter-widgets/base",
            "_view_module_version": "1.2.0",
            "_view_name": "LayoutView",
            "align_content": null,
            "align_items": null,
            "align_self": null,
            "border": null,
            "bottom": null,
            "display": null,
            "flex": null,
            "flex_flow": null,
            "grid_area": null,
            "grid_auto_columns": null,
            "grid_auto_flow": null,
            "grid_auto_rows": null,
            "grid_column": null,
            "grid_gap": null,
            "grid_row": null,
            "grid_template_areas": null,
            "grid_template_columns": null,
            "grid_template_rows": null,
            "height": null,
            "justify_content": null,
            "justify_items": null,
            "left": null,
            "margin": null,
            "max_height": null,
            "max_width": null,
            "min_height": null,
            "min_width": null,
            "object_fit": null,
            "object_position": null,
            "order": null,
            "overflow": null,
            "overflow_x": null,
            "overflow_y": null,
            "padding": null,
            "right": null,
            "top": null,
            "visibility": null,
            "width": null
          }
        }
      }
    }
  },
  "nbformat": 4,
  "nbformat_minor": 0
}